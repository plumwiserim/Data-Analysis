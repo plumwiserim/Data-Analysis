{
  "cells": [
    {
      "cell_type": "markdown",
      "metadata": {
        "id": "view-in-github",
        "colab_type": "text"
      },
      "source": [
        "<a href=\"https://colab.research.google.com/github/plumwiserim/data-analysis/blob/main/part1(20200710).ipynb\" target=\"_parent\"><img src=\"https://colab.research.google.com/assets/colab-badge.svg\" alt=\"Open In Colab\"/></a>"
      ]
    },
    {
      "cell_type": "markdown",
      "metadata": {
        "id": "_VRk1ccjxQqd"
      },
      "source": [
        "# '학군'이 좋으면, '부동산' 가격이 높을까?\n",
        "\n",
        "## 가설\n",
        "\n",
        "학군이 좋으면, 부동산 매매 가격이 상대적으로 높을 것이다.\n",
        "\n",
        "## 정의(def)\n",
        "\n",
        "* 학군이란?\n",
        "    * 중학교에서 특수목적고로 진학하는 비율\n",
        "* 부당산 매매 가격?\n",
        "    * 아파트 거래가격"
      ]
    },
    {
      "cell_type": "code",
      "execution_count": null,
      "metadata": {
        "id": "qgO8s_9pxQqo"
      },
      "outputs": [],
      "source": [
        "# 1. 원본 데이터\n",
        "import pandas as pd"
      ]
    },
    {
      "cell_type": "code",
      "execution_count": null,
      "metadata": {
        "id": "LupBFRF7xQqu"
      },
      "outputs": [],
      "source": [
        "graduate_path = f'data/part1_2018년_2차_졸업생의_진로_현황(전체).xlsx'"
      ]
    },
    {
      "cell_type": "code",
      "execution_count": null,
      "metadata": {
        "id": "B1KZyPFqxQqv"
      },
      "outputs": [],
      "source": [
        "raw_graduate = pd.read_excel(graduate_path, sheet_name='2018_졸업생의 진로 현황(중)')"
      ]
    },
    {
      "cell_type": "code",
      "execution_count": null,
      "metadata": {
        "id": "bu8y-Uy3xQqx",
        "outputId": "5118594f-5314-4711-976e-2c9b94dbe86d"
      },
      "outputs": [
        {
          "data": {
            "text/html": [
              "<div>\n",
              "<style scoped>\n",
              "    .dataframe tbody tr th:only-of-type {\n",
              "        vertical-align: middle;\n",
              "    }\n",
              "\n",
              "    .dataframe tbody tr th {\n",
              "        vertical-align: top;\n",
              "    }\n",
              "\n",
              "    .dataframe thead th {\n",
              "        text-align: right;\n",
              "    }\n",
              "</style>\n",
              "<table border=\"1\" class=\"dataframe\">\n",
              "  <thead>\n",
              "    <tr style=\"text-align: right;\">\n",
              "      <th></th>\n",
              "      <th>지역</th>\n",
              "      <th>학교명</th>\n",
              "      <th>학교코드</th>\n",
              "      <th>졸업자</th>\n",
              "      <th>과고</th>\n",
              "      <th>외고</th>\n",
              "      <th>총합</th>\n",
              "    </tr>\n",
              "  </thead>\n",
              "  <tbody>\n",
              "    <tr>\n",
              "      <th>1</th>\n",
              "      <td>서울특별시 성북구</td>\n",
              "      <td>서울대학교사범대학부설중학교</td>\n",
              "      <td>S000003514</td>\n",
              "      <td>234.0</td>\n",
              "      <td>4.0</td>\n",
              "      <td>5.0</td>\n",
              "      <td>9.0</td>\n",
              "    </tr>\n",
              "    <tr>\n",
              "      <th>2</th>\n",
              "      <td>서울특별시 종로구</td>\n",
              "      <td>서울대학교사범대학부설여자중학교</td>\n",
              "      <td>S000003562</td>\n",
              "      <td>172.0</td>\n",
              "      <td>0.0</td>\n",
              "      <td>8.0</td>\n",
              "      <td>8.0</td>\n",
              "    </tr>\n",
              "    <tr>\n",
              "      <th>3</th>\n",
              "      <td>서울특별시 강남구</td>\n",
              "      <td>개원중학교</td>\n",
              "      <td>S010000698</td>\n",
              "      <td>214.0</td>\n",
              "      <td>2.0</td>\n",
              "      <td>9.0</td>\n",
              "      <td>11.0</td>\n",
              "    </tr>\n",
              "    <tr>\n",
              "      <th>4</th>\n",
              "      <td>서울특별시 서초구</td>\n",
              "      <td>경원중학교</td>\n",
              "      <td>S010000700</td>\n",
              "      <td>310.0</td>\n",
              "      <td>5.0</td>\n",
              "      <td>4.0</td>\n",
              "      <td>9.0</td>\n",
              "    </tr>\n",
              "    <tr>\n",
              "      <th>5</th>\n",
              "      <td>서울특별시 강남구</td>\n",
              "      <td>구룡중학교</td>\n",
              "      <td>S010000701</td>\n",
              "      <td>256.0</td>\n",
              "      <td>3.0</td>\n",
              "      <td>4.0</td>\n",
              "      <td>7.0</td>\n",
              "    </tr>\n",
              "    <tr>\n",
              "      <th>...</th>\n",
              "      <td>...</td>\n",
              "      <td>...</td>\n",
              "      <td>...</td>\n",
              "      <td>...</td>\n",
              "      <td>...</td>\n",
              "      <td>...</td>\n",
              "      <td>...</td>\n",
              "    </tr>\n",
              "    <tr>\n",
              "      <th>3454</th>\n",
              "      <td>제주특별자치도 제주시</td>\n",
              "      <td>탐라중학교</td>\n",
              "      <td>S170000844</td>\n",
              "      <td>298.0</td>\n",
              "      <td>1.0</td>\n",
              "      <td>1.0</td>\n",
              "      <td>2.0</td>\n",
              "    </tr>\n",
              "    <tr>\n",
              "      <th>3455</th>\n",
              "      <td>제주특별자치도 제주시</td>\n",
              "      <td>제주영지학교</td>\n",
              "      <td>S170000512</td>\n",
              "      <td>12.0</td>\n",
              "      <td>0.0</td>\n",
              "      <td>0.0</td>\n",
              "      <td>0.0</td>\n",
              "    </tr>\n",
              "    <tr>\n",
              "      <th>3456</th>\n",
              "      <td>제주특별자치도 제주시</td>\n",
              "      <td>제주영송학교</td>\n",
              "      <td>S170000513</td>\n",
              "      <td>21.0</td>\n",
              "      <td>0.0</td>\n",
              "      <td>0.0</td>\n",
              "      <td>0.0</td>\n",
              "    </tr>\n",
              "    <tr>\n",
              "      <th>3457</th>\n",
              "      <td>제주특별자치도 서귀포시</td>\n",
              "      <td>서귀포온성학교</td>\n",
              "      <td>S170000790</td>\n",
              "      <td>9.0</td>\n",
              "      <td>0.0</td>\n",
              "      <td>0.0</td>\n",
              "      <td>0.0</td>\n",
              "    </tr>\n",
              "    <tr>\n",
              "      <th>3458</th>\n",
              "      <td>제주특별자치도 제주시</td>\n",
              "      <td>제주제일중학교부설방송통신중학교</td>\n",
              "      <td>S170000870</td>\n",
              "      <td>NaN</td>\n",
              "      <td>NaN</td>\n",
              "      <td>NaN</td>\n",
              "      <td>NaN</td>\n",
              "    </tr>\n",
              "  </tbody>\n",
              "</table>\n",
              "<p>3458 rows × 7 columns</p>\n",
              "</div>"
            ],
            "text/plain": [
              "                지역               학교명        학교코드    졸업자   과고   외고    총합\n",
              "1        서울특별시 성북구    서울대학교사범대학부설중학교  S000003514  234.0  4.0  5.0   9.0\n",
              "2        서울특별시 종로구  서울대학교사범대학부설여자중학교  S000003562  172.0  0.0  8.0   8.0\n",
              "3        서울특별시 강남구             개원중학교  S010000698  214.0  2.0  9.0  11.0\n",
              "4        서울특별시 서초구             경원중학교  S010000700  310.0  5.0  4.0   9.0\n",
              "5        서울특별시 강남구             구룡중학교  S010000701  256.0  3.0  4.0   7.0\n",
              "...            ...               ...         ...    ...  ...  ...   ...\n",
              "3454   제주특별자치도 제주시             탐라중학교  S170000844  298.0  1.0  1.0   2.0\n",
              "3455   제주특별자치도 제주시            제주영지학교  S170000512   12.0  0.0  0.0   0.0\n",
              "3456   제주특별자치도 제주시            제주영송학교  S170000513   21.0  0.0  0.0   0.0\n",
              "3457  제주특별자치도 서귀포시           서귀포온성학교  S170000790    9.0  0.0  0.0   0.0\n",
              "3458   제주특별자치도 제주시  제주제일중학교부설방송통신중학교  S170000870    NaN  NaN  NaN   NaN\n",
              "\n",
              "[3458 rows x 7 columns]"
            ]
          },
          "execution_count": 11,
          "metadata": {},
          "output_type": "execute_result"
        }
      ],
      "source": [
        "# 2-1. 전처리, 필요한 데이터 추출\n",
        "# 전처리는 데이터를 분석하기전에 필요한 데이터를 수집하고, 보정하는 행위\n",
        "# 전처리는 {누락데이터}를 처리하는 것이 대부분, 수치화(항목, 속성, 목록 ...)도 함께 함\n",
        "\n",
        "select_col = raw_graduate[['지역', '학교명','정보공시 \\n 학교코드', '졸업자.2', '(특수목적고)과학고 진학자.2','(특수목적고)외고ㆍ국제고 진학자.2']]\n",
        "select_col.columns = ['지역', '학교명', '학교코드', '졸업자', '과고', '외고']\n",
        "graduate_data = select_col.drop(0)\n",
        "\n",
        "# 2-2. 수치화\n",
        "graduate_data['졸업자'] = pd.to_numeric(graduate_data['졸업자'])\n",
        "graduate_data['과고'] = pd.to_numeric(graduate_data['과고'])\n",
        "graduate_data['외고'] = pd.to_numeric(graduate_data['외고'])\n",
        "graduate_data['총합'] = graduate_data['과고'] + graduate_data['외고']\n",
        "graduate_data"
      ]
    },
    {
      "cell_type": "code",
      "execution_count": null,
      "metadata": {
        "id": "Udf02-G5xQq0",
        "outputId": "f95241b5-28e7-4f03-cb5a-d08ed3e023bf"
      },
      "outputs": [
        {
          "name": "stdout",
          "output_type": "stream",
          "text": [
            "경\n",
            "상\n",
            "북\n",
            "도\n",
            "경북\n"
          ]
        }
      ],
      "source": [
        "# 지역을 '시도', '구군'으로 분리\n",
        "# 입력은 \"서울특별시 성북구\" 그리고 \"경상북도\", \"경상남도\"와 같은 시도도 입력됨\n",
        "# 처리\n",
        "# 1) 시와 구를 나눈다. (공백으로 나눌 수 있는가?) => split\n",
        "# 2) 만약에 시를 구분했을 때, 글자수가 4자이면 첫번째와 세번째 글자를 합쳐서 출력 => 경남 [0] + [2]\n",
        "# 3) 글자수가 4자가 아니면 앞의 두 글자만 출력 => [0:2]\n",
        "# 출력은 \"서울\" or \"경남\""
      ]
    },
    {
      "cell_type": "code",
      "execution_count": null,
      "metadata": {
        "id": "q8YF6lk6xQq3",
        "outputId": "030f9d93-161f-423d-c89f-6351a45c7bcf"
      },
      "outputs": [
        {
          "name": "stdout",
          "output_type": "stream",
          "text": [
            "경북\n"
          ]
        }
      ],
      "source": [
        "province = \"경상북도 성북구\"\n",
        "\n",
        "temp = province.split(' ')\n",
        "\n",
        "sido = temp[0]\n",
        "\n",
        "if len(sido) == 4:        \n",
        "    print(sido[0] + sido[2])\n",
        "else:\n",
        "    print(sido[0:2])"
      ]
    },
    {
      "cell_type": "code",
      "execution_count": null,
      "metadata": {
        "id": "ul2EDXWOxQq5"
      },
      "outputs": [],
      "source": [
        "\"\""
      ]
    }
  ],
  "metadata": {
    "kernelspec": {
      "display_name": "Python 3",
      "language": "python",
      "name": "python3"
    },
    "language_info": {
      "codemirror_mode": {
        "name": "ipython",
        "version": 3
      },
      "file_extension": ".py",
      "mimetype": "text/x-python",
      "name": "python",
      "nbconvert_exporter": "python",
      "pygments_lexer": "ipython3",
      "version": "3.7.6"
    },
    "colab": {
      "name": "part1(20200710).ipynb",
      "provenance": [],
      "include_colab_link": true
    }
  },
  "nbformat": 4,
  "nbformat_minor": 0
}